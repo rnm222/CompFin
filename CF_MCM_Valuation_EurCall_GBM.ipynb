{
 "cells": [
  {
   "cell_type": "markdown",
   "metadata": {},
   "source": [
    "# Monte Carlo Valuation of European call option in GBM model"
   ]
  },
  {
   "cell_type": "code",
   "execution_count": 1,
   "metadata": {},
   "outputs": [],
   "source": [
    "#Functions and Libraries\n",
    "from scipy import stats\n",
    "import numpy as np\n",
    "from time import time"
   ]
  },
  {
   "cell_type": "code",
   "execution_count": 2,
   "metadata": {
    "collapsed": true
   },
   "outputs": [],
   "source": [
    "# Parameters of the model\n",
    "S = 100.0 #Initial stock price\n",
    "sigma = 0.3 #Volatility\n",
    "r = 0.02 #risk-free interest rate\n",
    "T = 1.0 #Maturity time\n",
    "K = 95.0 #Strike price"
   ]
  },
  {
   "cell_type": "code",
   "execution_count": 3,
   "metadata": {
    "collapsed": true
   },
   "outputs": [],
   "source": [
    "def NCDF(x): return stats.norm.cdf(x, 0.0, 1.0) \n",
    "def INCDF(u): return stats.norm.ppf(u)"
   ]
  },
  {
   "cell_type": "code",
   "execution_count": 4,
   "metadata": {},
   "outputs": [
    {
     "data": {
      "text/plain": [
       "0.97499999999999998"
      ]
     },
     "execution_count": 4,
     "metadata": {},
     "output_type": "execute_result"
    }
   ],
   "source": [
    "NCDF(INCDF(0.975))"
   ]
  },
  {
   "cell_type": "code",
   "execution_count": 5,
   "metadata": {},
   "outputs": [],
   "source": [
    "def CallVal(S,T,K,r,sigma):\n",
    "    d_plus = ( np.log(S / K) + ( r + 0.5 * sigma ** 2) * T ) / ( sigma * np.sqrt(T) )\n",
    "    d_minus = d_plus - sigma * np.sqrt(T)\n",
    "    val = S * NCDF(d_plus) -  K * np.exp(-r * T) * NCDF(d_minus)\n",
    "    return val"
   ]
  },
  {
   "cell_type": "code",
   "execution_count": 6,
   "metadata": {},
   "outputs": [
    {
     "data": {
      "text/plain": [
       "15.274859561935457"
      ]
     },
     "execution_count": 6,
     "metadata": {},
     "output_type": "execute_result"
    }
   ],
   "source": [
    "CallVal(S,T,K,r,sigma)"
   ]
  },
  {
   "cell_type": "code",
   "execution_count": 7,
   "metadata": {
    "collapsed": true
   },
   "outputs": [],
   "source": [
    "def Call_Payoff(S,K): return np.fmax(S-K,0.0)\n",
    "def Put_Payoff(S,K): return np.fmax(K-S,0.0)"
   ]
  },
  {
   "cell_type": "code",
   "execution_count": 8,
   "metadata": {},
   "outputs": [],
   "source": [
    "def CrudeMCM(M,S,K,T,r,sigma,Payoff):\n",
    "    Z = np.random.standard_normal(M) #Std. Normal samples\n",
    "    ST = S * np.exp((r - 0.5 * sigma ** 2 ) * T \n",
    "                + sigma * np.sqrt(T) * Z) #Lognormal Samples\n",
    "    DCPV = np.exp(-r * T) * Payoff(ST,K)\n",
    "    sample_mean = np.mean(DCPV)\n",
    "    std_error = np.std(DCPV)/np.sqrt(M)\n",
    "    return sample_mean,std_error,ST,DCPV"
   ]
  },
  {
   "cell_type": "code",
   "execution_count": 9,
   "metadata": {
    "scrolled": true
   },
   "outputs": [
    {
     "name": "stdout",
     "output_type": "stream",
     "text": [
      "The MCM estimate of the call value is 15.254193\n",
      "The standard error of the estimate is 0.0231400076689\n",
      "The 95% confidence interval is ( 15.2088 ,  15.2995 )\n",
      "Time is 0.081345 sec\n"
     ]
    }
   ],
   "source": [
    "t0 = time()\n",
    "M = 1000000 #Number of realizations\n",
    "(sample_mean,std_error,ST,DCPV) = CrudeMCM(M,S,K,T,r,sigma,Call_Payoff)\n",
    "lep = sample_mean - 1.96 * std_error\n",
    "rep = sample_mean + 1.96 * std_error\n",
    "print \"The MCM estimate of the call value is %f\" % sample_mean\n",
    "print \"The standard error of the estimate is\", std_error\n",
    "print \"The 95%% confidence interval is (%8.4f , %8.4f )\" % (lep, rep)\n",
    "print \"Time is %f sec\" % (time()-t0)"
   ]
  },
  {
   "cell_type": "code",
   "execution_count": 10,
   "metadata": {},
   "outputs": [],
   "source": [
    "def LNpdf(x,S,r,sigma,t):\n",
    "    sigma2 = sigma**2\n",
    "    val = np.exp(-0.5*(np.log(x/S)-(r-0.5*sigma2))**2/(sigma2*t))\n",
    "    val = val / (sigma*x*np.sqrt(2*np.pi*t))\n",
    "    return val"
   ]
  },
  {
   "cell_type": "code",
   "execution_count": 11,
   "metadata": {
    "scrolled": true
   },
   "outputs": [
    {
     "data": {
      "image/png": "[encoded data removed]",
      "text/plain": [
       "<matplotlib.figure.Figure at 0x7f8ee5ca7910>"
      ]
     },
     "metadata": {},
     "output_type": "display_data"
    }
   ],
   "source": [
    "import matplotlib.pyplot as plt\n",
    "%matplotlib inline\n",
    "\n",
    "plt.hist(ST,100,normed=1,label='frequency')\n",
    "plt.title(\"Stock Values\")\n",
    "plt.xlabel(\"Value\")\n",
    "plt.ylabel(\"Frequency\")\n",
    "x = np.linspace(1,500,100)\n",
    "y = LNpdf(x,S,r,sigma,T)\n",
    "plt.plot(x, y,'r-', label='lognorm pdf')\n",
    "plt.legend()\n",
    "plt.show()"
   ]
  },
  {
   "cell_type": "code",
   "execution_count": 12,
   "metadata": {},
   "outputs": [],
   "source": [
    "csums = np.cumsum(DCPV)\n",
    "estimates = csums / range(1,M+1)\n",
    "callval = np.ones(M)*CallVal(S,T,K,r,sigma)"
   ]
  },
  {
   "cell_type": "code",
   "execution_count": 13,
   "metadata": {},
   "outputs": [
    {
     "data": {
      "image/png": "[encoded data removed]",
      "text/plain": [
       "<matplotlib.figure.Figure at 0x7f8f189e3590>"
      ]
     },
     "metadata": {},
     "output_type": "display_data"
    }
   ],
   "source": [
    "n = range(M)\n",
    "plt.plot(n[100:],estimates[100:])\n",
    "plt.plot(n[100:],callval[100:],'r-')\n",
    "plt.ylim([15.0,15.5])\n",
    "plt.show()"
   ]
  },
  {
   "cell_type": "code",
   "execution_count": 14,
   "metadata": {
    "collapsed": true
   },
   "outputs": [],
   "source": [
    "def AntVarMCM(M,S,K,T,r,sigma,Payoff):\n",
    "    Z = np.random.standard_normal(M) #Std. Normal samples\n",
    "    ST = S * np.exp((r - 0.5 * sigma ** 2 ) * T \n",
    "                + sigma * np.sqrt(T) * Z) #Lognormal Samples\n",
    "    STA = S * np.exp((r - 0.5 * sigma ** 2 ) * T \n",
    "                - sigma * np.sqrt(T) * Z) #Lognormal Samples\n",
    "    DCPV = np.exp(-r * T) * (Payoff(ST,K)+Payoff(STA,K))*0.5\n",
    "    sample_mean = np.mean(DCPV)\n",
    "    std_error = np.std(DCPV)/np.sqrt(M)\n",
    "    return sample_mean,std_error"
   ]
  },
  {
   "cell_type": "code",
   "execution_count": 15,
   "metadata": {},
   "outputs": [
    {
     "name": "stdout",
     "output_type": "stream",
     "text": [
      "The MCM estimate of the call value is 15.282710\n",
      "The standard error of the estimate is 0.0123004981993\n",
      "The 95% confidence interval is ( 15.2586 ,  15.3068 )\n",
      "Time is 0.104384 sec\n"
     ]
    }
   ],
   "source": [
    "t0 = time()\n",
    "M = 1000000 #Number of realizations\n",
    "(sample_mean,std_error) = AntVarMCM(M,S,K,T,r,sigma,Call_Payoff)\n",
    "lep = sample_mean - 1.96 * std_error\n",
    "rep = sample_mean + 1.96 * std_error\n",
    "print \"The MCM estimate of the call value is %f\" % sample_mean\n",
    "print \"The standard error of the estimate is\", std_error\n",
    "print \"The 95%% confidence interval is (%8.4f , %8.4f )\" % (lep, rep)\n",
    "print \"Time is %f sec\" % (time()-t0)"
   ]
  },
  {
   "cell_type": "code",
   "execution_count": 16,
   "metadata": {
    "collapsed": true
   },
   "outputs": [],
   "source": [
    "def SampleCondNorm(a,N):\n",
    "    #Sample a std. norm Z conditional on Z>a\n",
    "    U = np.random.rand(N)\n",
    "    na = NCDF(a)\n",
    "    Z = INCDF(na+(1.0-na)*U)\n",
    "    return Z"
   ]
  },
  {
   "cell_type": "code",
   "execution_count": 17,
   "metadata": {},
   "outputs": [
    {
     "data": {
      "image/png": "[encoded data removed]",
      "text/plain": [
       "<matplotlib.figure.Figure at 0x7f8edf394110>"
      ]
     },
     "metadata": {},
     "output_type": "display_data"
    }
   ],
   "source": [
    "Z = SampleCondNorm(1,10000)\n",
    "plt.hist(Z,50,normed=1,label='frequency')\n",
    "plt.title(\"Normal Distribution conditional on Z > 1\")\n",
    "plt.xlabel(\"Value\")\n",
    "plt.ylabel(\"Frequency\")\n",
    "plt.legend()\n",
    "plt.show()"
   ]
  },
  {
   "cell_type": "code",
   "execution_count": 18,
   "metadata": {
    "collapsed": true
   },
   "outputs": [],
   "source": [
    "def CondMCM(M,S,K,T,r,sigma,Payoff):\n",
    "    d_minus = ( np.log(S / K) + ( r - 0.5 * sigma ** 2) * T ) / ( sigma * np.sqrt(T) )\n",
    "    Z = SampleCondNorm(-d_minus,M) #Cond. Normal samples\n",
    "    ST = S * np.exp((r - 0.5 * sigma ** 2 ) * T \n",
    "                + sigma * np.sqrt(T) * Z) #Lognormal Samples\n",
    "    d_minus = ( np.log(S / K) + ( r - 0.5 * sigma ** 2) * T ) / ( sigma * np.sqrt(T) )\n",
    "    DCPV = np.exp(-r * T) * Payoff(ST,K) * NCDF(d_minus)\n",
    "    sample_mean = np.mean(DCPV)\n",
    "    std_error = np.std(DCPV)/np.sqrt(M)\n",
    "    return sample_mean,std_error"
   ]
  },
  {
   "cell_type": "code",
   "execution_count": 19,
   "metadata": {},
   "outputs": [
    {
     "name": "stdout",
     "output_type": "stream",
     "text": [
      "The MCM estimate of the call value is 15.280483\n",
      "The standard error of the estimate is 0.0133359529584\n",
      "The 95% confidence interval is ( 15.2543 ,  15.3066 )\n",
      "Time is 0.187737 sec\n"
     ]
    }
   ],
   "source": [
    "t0 = time()\n",
    "M = 1000000 #Number of realizations\n",
    "(sample_mean,std_error) = CondMCM(M,S,K,T,r,sigma,Call_Payoff)\n",
    "lep = sample_mean - 1.96 * std_error\n",
    "rep = sample_mean + 1.96 * std_error\n",
    "print \"The MCM estimate of the call value is %f\" % sample_mean\n",
    "print \"The standard error of the estimate is\", std_error\n",
    "print \"The 95%% confidence interval is (%8.4f , %8.4f )\" % (lep, rep)\n",
    "print \"Time is %f sec\" % (time()-t0)"
   ]
  },
  {
   "cell_type": "code",
   "execution_count": null,
   "metadata": {
    "collapsed": true
   },
   "outputs": [],
   "source": []
  }
 ],
 "metadata": {
  "kernelspec": {
   "display_name": "Python 3",
   "language": "python",
   "name": "python3"
  },
  "language_info": {
   "codemirror_mode": {
    "name": "ipython",
    "version": 3
   },
   "file_extension": ".py",
   "mimetype": "text/x-python",
   "name": "python",
   "nbconvert_exporter": "python",
   "pygments_lexer": "ipython3",
   "version": "3.6.1"
  }
 },
 "nbformat": 4,
 "nbformat_minor": 1
}
